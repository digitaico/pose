{
 "cells": [
  {
   "cell_type": "code",
   "execution_count": null,
   "id": "6c97b36e-abfa-45f7-a41b-b7f9a23daf9e",
   "metadata": {
    "scrolled": true
   },
   "outputs": [],
   "source": [
    "import mediapipe as mp\n",
    "import cv2\n",
    "import time\n",
    "import tensorflow as tf\n",
    "\n",
    "mpPose = mp.solutions.pose\n",
    "pose = mpPose.Pose()\n",
    "mpDraw = mp.solutions.drawing_utils"
   ]
  },
  {
   "cell_type": "code",
   "execution_count": null,
   "id": "735a38eb-bfeb-455e-a920-5e9c806ffe21",
   "metadata": {},
   "outputs": [],
   "source": [
    "import torch\n",
    "\n",
    "print(f\"PyTorch version: {torch.__version__}\")\n",
    "print(f\"CUDA available: {torch.cuda.is_available()}\")\n",
    "print(f\"Number of CUDA devices: {torch.cuda.device_count()}\")\n",
    "\n",
    "if torch.cuda.is_available():\n",
    "    print(f\"Current CUDA device: {torch.cuda.current_device()}\")\n",
    "    print(f\"Device name: {torch.cuda.get_device_name(0)}\")"
   ]
  },
  {
   "cell_type": "code",
   "execution_count": null,
   "id": "7a203754-210e-4a30-9331-778c9e0c4b67",
   "metadata": {},
   "outputs": [],
   "source": [
    "print(cv2.cuda.getCudaEnabledDeviceCount())\n",
    "\n",
    "print (\"Num GPUS available: \", len(tf.config.list_physical_devices('GPU')))\n",
    "print(f\"OpenCV version: {cv2.__version__}\")\n",
    "\n",
    "if cv2.cuda.getCudaEnabledDeviceCount() > 0:\n",
    "    print(\"CUDA is available and enabled in OpenCV.\")\n",
    "    img = np.zeros((512, 512, 3), dtype=np.uint8)\n",
    "    gpu_img = cv2.cuda_GpuMat()\n",
    "    gpu_img.upload(img)\n",
    "    gpu_blurred = cv2.cuda.GaussianBlur(gpu_img, (5, 5), 0)\n",
    "    blurred_img = gpu_blurred.download()\n",
    "    print(\"Successfully performed a GPU operation with OpenCV.\")\n",
    "else:\n",
    "    print(\"CUDA is not enabled in OpenCV.\")\n",
    "\n",
    "    "
   ]
  },
  {
   "cell_type": "code",
   "execution_count": null,
   "id": "6fa12e73-3483-4b38-a313-83406b993e72",
   "metadata": {},
   "outputs": [],
   "source": [
    "import cv2\n",
    "\n",
    "print(f\"OpenCV version: {cv2.__version__}\")\n",
    "print(f\"CUDA enabled: {cv2.cuda.getCudaEnabledDeviceCount() > 0}\")\n",
    "\n",
    "if cv2.cuda.getCudaEnabledDeviceCount() > 0:\n",
    "    print(f\"Number of CUDA devices: {cv2.cuda.getCudaEnabledDeviceCount()}\")\n",
    "    for i in range(cv2.cuda.getCudaEnabledDeviceCount()):\n",
    "        device_info = cv2.cuda.DeviceInfo(i)\n",
    "        print(f\"  Device {i}: {device_info.name()}\")\n",
    "        print(f\"    Compute capability: {device_info.computeCapability()}\")\n",
    "else:\n",
    "    print(\"CUDA not found or not enabled in OpenCV.\")\n"
   ]
  },
  {
   "cell_type": "code",
   "execution_count": null,
   "id": "26b3c6b3-35b4-4b31-ad0e-0dc408cdb43c",
   "metadata": {},
   "outputs": [],
   "source": [
    "if cv2.cuda.getCudaEnabledDeviceCount() > 0:\n",
    "    print(\"CUDA is available and enabled in OpenCV.\")\n",
    "\n",
    "    # Create a sample image (replace with your actual image if needed)\n",
    "    img = np.zeros((512, 512, 3), dtype=np.uint8)\n",
    "\n",
    "    # Upload the image to the GPU\n",
    "    gpu_img = cv2.cuda_GpuMat()\n",
    "    gpu_img.upload(img)\n",
    "\n",
    "    # Perform a GPU operation (e.g., Gaussian blur)\n",
    "    gpu_blurred = cv2.cuda.GaussianBlur(gpu_img, (5, 5), 0)\n",
    "\n",
    "    # Download the result back to the CPU (optional for monitoring)\n",
    "    blurred_img = gpu_blurred.download()\n",
    "\n",
    "    print(\"Successfully performed a GPU operation with OpenCV.\")\n",
    "\n",
    "    # Now, check nvidia-smi or nvtop while this code is running\n",
    "    # You should see a Python process utilizing the GPU\n",
    "else:\n",
    "    print(\"CUDA is not enabled in OpenCV.\")\n"
   ]
  },
  {
   "cell_type": "code",
   "execution_count": 10,
   "id": "d7281941-8060-400b-87e5-93f81124f483",
   "metadata": {},
   "outputs": [
    {
     "name": "stdout",
     "output_type": "stream",
     "text": [
      "PyTorch is using CUDA device: NVIDIA GeForce GTX 970M\n",
      "tensor([[ 8.1115, -1.3057, -2.2265, -2.9400, -0.5480, -0.1824,  1.2576,  0.2032,\n",
      "         -1.5277, -4.9719],\n",
      "        [-2.4679,  1.3200, -1.4874, -0.8327, -0.9613, -1.5228,  1.2956,  1.8451,\n",
      "         -3.1782,  0.8542],\n",
      "        [-0.8133, -3.9205,  2.3856, -2.7993,  2.1914,  0.5597,  2.0712,  0.4721,\n",
      "         -1.5119,  3.0993],\n",
      "        [-5.0446,  5.3290,  2.1792,  9.7663, -0.0267,  9.5795, -0.8500,  0.5999,\n",
      "         -5.8524,  2.0204],\n",
      "        [ 0.5344,  1.6163, -3.6165,  0.0546,  4.9074, -0.4191,  0.1364, -2.7545,\n",
      "          1.9815,  4.3759],\n",
      "        [-2.4658,  1.8840,  0.9016,  4.3723, -2.9382,  2.0456,  2.3189,  0.3454,\n",
      "         -4.3071,  0.4552],\n",
      "        [-4.6900,  1.2609,  1.0994,  1.4591,  0.3175, -1.2247,  1.1647,  1.9724,\n",
      "         -4.1101,  2.9930],\n",
      "        [-4.8437,  1.2822, -0.0253, -1.0900, -2.9327, -0.7656,  2.9970,  1.5936,\n",
      "         -5.8375,  2.8292],\n",
      "        [ 2.3852, -4.0097,  1.3520,  2.3984,  1.1414, -1.0611, -2.2574, -0.8063,\n",
      "          7.2279, -0.3851],\n",
      "        [-6.5012,  2.8354,  1.1773,  5.6706, -0.0291,  2.5454,  2.6707, -0.4736,\n",
      "         -3.3920,  4.2567]], device='cuda:0')\n"
     ]
    }
   ],
   "source": [
    "import torch\n",
    "\n",
    "if torch.cuda.is_available():\n",
    "    device = torch.device(\"cuda\")\n",
    "    print(f\"PyTorch is using CUDA device: {torch.cuda.get_device_name(0)}\")\n",
    "\n",
    "    # Example GPU operation\n",
    "    tensor = torch.randn(10, 10).to(device)\n",
    "    result = tensor @ tensor\n",
    "    print(result)\n",
    "\n",
    "    # Check nvidia-smi or nvtop while this code is running\n",
    "else:\n",
    "    print(\"PyTorch is not using CUDA.\")\n"
   ]
  },
  {
   "cell_type": "code",
   "execution_count": 11,
   "id": "9c56385a-46ef-46ab-ad51-6c0e4af4c455",
   "metadata": {},
   "outputs": [
    {
     "name": "stdout",
     "output_type": "stream",
     "text": [
      "PyTorch version: 2.5.1+cu118\n",
      "CUDA available: True\n",
      "Number of CUDA devices: 1\n",
      "Current CUDA device: 0\n",
      "Device name: NVIDIA GeForce GTX 970M\n"
     ]
    }
   ],
   "source": [
    "import torch\n",
    "\n",
    "print(f\"PyTorch version: {torch.__version__}\")\n",
    "print(f\"CUDA available: {torch.cuda.is_available()}\")\n",
    "print(f\"Number of CUDA devices: {torch.cuda.device_count()}\")\n",
    "\n",
    "if torch.cuda.is_available():\n",
    "    print(f\"Current CUDA device: {torch.cuda.current_device()}\")\n",
    "    print(f\"Device name: {torch.cuda.get_device_name(0)}\")"
   ]
  },
  {
   "cell_type": "code",
   "execution_count": 12,
   "id": "3aec59f3-80c8-4b91-89ba-7b6b096fe7fb",
   "metadata": {},
   "outputs": [
    {
     "name": "stdout",
     "output_type": "stream",
     "text": [
      "CUDA is available and enabled in OpenCV.\n"
     ]
    },
    {
     "ename": "AttributeError",
     "evalue": "module 'cv2.cuda' has no attribute 'GaussianBlur'",
     "output_type": "error",
     "traceback": [
      "\u001b[0;31m---------------------------------------------------------------------------\u001b[0m",
      "\u001b[0;31mAttributeError\u001b[0m                            Traceback (most recent call last)",
      "Cell \u001b[0;32mIn[12], line 16\u001b[0m\n\u001b[1;32m     13\u001b[0m gpu_img\u001b[38;5;241m.\u001b[39mupload(img)\n\u001b[1;32m     15\u001b[0m \u001b[38;5;66;03m# Perform a GPU operation (e.g., Gaussian blur)\u001b[39;00m\n\u001b[0;32m---> 16\u001b[0m gpu_blurred \u001b[38;5;241m=\u001b[39m \u001b[43mcv2\u001b[49m\u001b[38;5;241;43m.\u001b[39;49m\u001b[43mcuda\u001b[49m\u001b[38;5;241;43m.\u001b[39;49m\u001b[43mGaussianBlur\u001b[49m(gpu_img, (\u001b[38;5;241m5\u001b[39m, \u001b[38;5;241m5\u001b[39m), \u001b[38;5;241m0\u001b[39m)\n\u001b[1;32m     18\u001b[0m \u001b[38;5;66;03m# Download the result back to the CPU (optional for monitoring)\u001b[39;00m\n\u001b[1;32m     19\u001b[0m blurred_img \u001b[38;5;241m=\u001b[39m gpu_blurred\u001b[38;5;241m.\u001b[39mdownload()\n",
      "\u001b[0;31mAttributeError\u001b[0m: module 'cv2.cuda' has no attribute 'GaussianBlur'"
     ]
    }
   ],
   "source": [
    "import cv2\n",
    "import numpy as np\n",
    "\n",
    "# Check if CUDA is available\n",
    "if cv2.cuda.getCudaEnabledDeviceCount() > 0:\n",
    "    print(\"CUDA is available and enabled in OpenCV.\")\n",
    "\n",
    "    # Create a sample image (replace with your actual image if needed)\n",
    "    img = np.zeros((512, 512, 3), dtype=np.uint8)\n",
    "\n",
    "    # Upload the image to the GPU\n",
    "    gpu_img = cv2.cuda_GpuMat()\n",
    "    gpu_img.upload(img)\n",
    "\n",
    "    # Perform a GPU operation (e.g., Gaussian blur)\n",
    "    gpu_blurred = cv2.cuda.GaussianBlur(gpu_img, (5, 5), 0)\n",
    "\n",
    "    # Download the result back to the CPU (optional for monitoring)\n",
    "    blurred_img = gpu_blurred.download()\n",
    "\n",
    "    print(\"Successfully performed a GPU operation with OpenCV.\")\n",
    "\n",
    "    # Now, check nvidia-smi or nvtop while this code is running\n",
    "    # You should see a Python process utilizing the GPU\n",
    "else:\n",
    "    print(\"CUDA is not enabled in OpenCV.\")"
   ]
  },
  {
   "cell_type": "code",
   "execution_count": 14,
   "id": "1c7a3d9c-574d-4af7-baf8-38d73e2f427c",
   "metadata": {},
   "outputs": [
    {
     "name": "stdout",
     "output_type": "stream",
     "text": [
      "CUDA is available and enabled in OpenCV.\n"
     ]
    },
    {
     "ename": "AttributeError",
     "evalue": "module 'cv2.cuda' has no attribute 'GaussianBlur'",
     "output_type": "error",
     "traceback": [
      "\u001b[0;31m---------------------------------------------------------------------------\u001b[0m",
      "\u001b[0;31mAttributeError\u001b[0m                            Traceback (most recent call last)",
      "Cell \u001b[0;32mIn[14], line 9\u001b[0m\n\u001b[1;32m      7\u001b[0m gpu_img \u001b[38;5;241m=\u001b[39m cv2\u001b[38;5;241m.\u001b[39mcuda_GpuMat()\n\u001b[1;32m      8\u001b[0m gpu_img\u001b[38;5;241m.\u001b[39mupload(img)\n\u001b[0;32m----> 9\u001b[0m gpu_blurred \u001b[38;5;241m=\u001b[39m \u001b[43mcv2\u001b[49m\u001b[38;5;241;43m.\u001b[39;49m\u001b[43mcuda\u001b[49m\u001b[38;5;241;43m.\u001b[39;49m\u001b[43mGaussianBlur\u001b[49m(gpu_img, (\u001b[38;5;241m5\u001b[39m, \u001b[38;5;241m5\u001b[39m), \u001b[38;5;241m0\u001b[39m)\n\u001b[1;32m     10\u001b[0m blurred_img \u001b[38;5;241m=\u001b[39m gpu_blurred\u001b[38;5;241m.\u001b[39mdownload()\n\u001b[1;32m     11\u001b[0m \u001b[38;5;28mprint\u001b[39m(\u001b[38;5;124m\"\u001b[39m\u001b[38;5;124mSuccessfully performed a GPU operation with OpenCV.\u001b[39m\u001b[38;5;124m\"\u001b[39m)\n",
      "\u001b[0;31mAttributeError\u001b[0m: module 'cv2.cuda' has no attribute 'GaussianBlur'"
     ]
    }
   ],
   "source": [
    "import cv2\n",
    "import numpy as np\n",
    "\n",
    "if cv2.cuda.getCudaEnabledDeviceCount() > 0:\n",
    "    print(\"CUDA is available and enabled in OpenCV.\")\n",
    "    img = np.zeros((512, 512, 3), dtype=np.uint8)\n",
    "    gpu_img = cv2.cuda_GpuMat()\n",
    "    gpu_img.upload(img)\n",
    "    gpu_blurred = cv2.cuda.GaussianBlur(gpu_img, (5, 5), 0)\n",
    "    blurred_img = gpu_blurred.download()\n",
    "    print(\"Successfully performed a GPU operation with OpenCV.\")\n",
    "else:\n",
    "    print(\"CUDA is not enabled in OpenCV.\")"
   ]
  },
  {
   "cell_type": "code",
   "execution_count": 15,
   "id": "50955d36-464c-435e-83b5-820d4e65886e",
   "metadata": {},
   "outputs": [
    {
     "name": "stdout",
     "output_type": "stream",
     "text": [
      "OpenCV version: 4.12.0-dev\n",
      "CUDA enabled: True\n",
      "Number of CUDA devices: 1\n"
     ]
    },
    {
     "ename": "AttributeError",
     "evalue": "'cv2.cuda.DeviceInfo' object has no attribute 'name'",
     "output_type": "error",
     "traceback": [
      "\u001b[0;31m---------------------------------------------------------------------------\u001b[0m",
      "\u001b[0;31mAttributeError\u001b[0m                            Traceback (most recent call last)",
      "Cell \u001b[0;32mIn[15], line 10\u001b[0m\n\u001b[1;32m      8\u001b[0m \u001b[38;5;28;01mfor\u001b[39;00m i \u001b[38;5;129;01min\u001b[39;00m \u001b[38;5;28mrange\u001b[39m(cv2\u001b[38;5;241m.\u001b[39mcuda\u001b[38;5;241m.\u001b[39mgetCudaEnabledDeviceCount()):\n\u001b[1;32m      9\u001b[0m     device_info \u001b[38;5;241m=\u001b[39m cv2\u001b[38;5;241m.\u001b[39mcuda\u001b[38;5;241m.\u001b[39mDeviceInfo(i)\n\u001b[0;32m---> 10\u001b[0m     \u001b[38;5;28mprint\u001b[39m(\u001b[38;5;124mf\u001b[39m\u001b[38;5;124m\"\u001b[39m\u001b[38;5;124m  Device \u001b[39m\u001b[38;5;132;01m{\u001b[39;00mi\u001b[38;5;132;01m}\u001b[39;00m\u001b[38;5;124m: \u001b[39m\u001b[38;5;132;01m{\u001b[39;00m\u001b[43mdevice_info\u001b[49m\u001b[38;5;241;43m.\u001b[39;49m\u001b[43mname\u001b[49m()\u001b[38;5;132;01m}\u001b[39;00m\u001b[38;5;124m\"\u001b[39m)\n\u001b[1;32m     11\u001b[0m     \u001b[38;5;28mprint\u001b[39m(\u001b[38;5;124mf\u001b[39m\u001b[38;5;124m\"\u001b[39m\u001b[38;5;124m    Compute capability: \u001b[39m\u001b[38;5;132;01m{\u001b[39;00mdevice_info\u001b[38;5;241m.\u001b[39mcomputeCapability()\u001b[38;5;132;01m}\u001b[39;00m\u001b[38;5;124m\"\u001b[39m)\n\u001b[1;32m     12\u001b[0m \u001b[38;5;28;01melse\u001b[39;00m:\n",
      "\u001b[0;31mAttributeError\u001b[0m: 'cv2.cuda.DeviceInfo' object has no attribute 'name'"
     ]
    }
   ],
   "source": [
    "import cv2\n",
    "\n",
    "print(f\"OpenCV version: {cv2.__version__}\")\n",
    "print(f\"CUDA enabled: {cv2.cuda.getCudaEnabledDeviceCount() > 0}\")\n",
    "\n",
    "if cv2.cuda.getCudaEnabledDeviceCount() > 0:\n",
    "    print(f\"Number of CUDA devices: {cv2.cuda.getCudaEnabledDeviceCount()}\")\n",
    "    for i in range(cv2.cuda.getCudaEnabledDeviceCount()):\n",
    "        device_info = cv2.cuda.DeviceInfo(i)\n",
    "        print(f\"  Device {i}: {device_info.name()}\")\n",
    "        print(f\"    Compute capability: {device_info.computeCapability()}\")\n",
    "    else:\n",
    "        print(\"CUDA not found or not enabled in OpenCV.\")"
   ]
  },
  {
   "cell_type": "code",
   "execution_count": 16,
   "id": "7146e62a-e44a-43cb-bb9c-8b1c31ddf3ee",
   "metadata": {},
   "outputs": [
    {
     "name": "stdout",
     "output_type": "stream",
     "text": [
      "CUDA is available and enabled in OpenCV.\n"
     ]
    },
    {
     "ename": "error",
     "evalue": "OpenCV(4.12.0-dev) :-1: error: (-5:Bad argument) in function 'GaussianBlur'\n> Overload resolution failed:\n>  - src is not a numpy array, neither a scalar\n>  - Expected Ptr<cv::UMat> for argument 'src'\n",
     "output_type": "error",
     "traceback": [
      "\u001b[0;31m---------------------------------------------------------------------------\u001b[0m",
      "\u001b[0;31merror\u001b[0m                                     Traceback (most recent call last)",
      "Cell \u001b[0;32mIn[16], line 9\u001b[0m\n\u001b[1;32m      7\u001b[0m gpu_img \u001b[38;5;241m=\u001b[39m cv2\u001b[38;5;241m.\u001b[39mcuda_GpuMat()\n\u001b[1;32m      8\u001b[0m gpu_img\u001b[38;5;241m.\u001b[39mupload(img)\n\u001b[0;32m----> 9\u001b[0m gpu_blurred \u001b[38;5;241m=\u001b[39m \u001b[43mcv2\u001b[49m\u001b[38;5;241;43m.\u001b[39;49m\u001b[43mGaussianBlur\u001b[49m\u001b[43m(\u001b[49m\u001b[43mgpu_img\u001b[49m\u001b[43m,\u001b[49m\u001b[43m \u001b[49m\u001b[43m(\u001b[49m\u001b[38;5;241;43m5\u001b[39;49m\u001b[43m,\u001b[49m\u001b[43m \u001b[49m\u001b[38;5;241;43m5\u001b[39;49m\u001b[43m)\u001b[49m\u001b[43m,\u001b[49m\u001b[43m \u001b[49m\u001b[38;5;241;43m0\u001b[39;49m\u001b[43m)\u001b[49m\n\u001b[1;32m     10\u001b[0m blurred_img \u001b[38;5;241m=\u001b[39m gpu_blurred\u001b[38;5;241m.\u001b[39mdownload()\n\u001b[1;32m     11\u001b[0m \u001b[38;5;28mprint\u001b[39m(\u001b[38;5;124m\"\u001b[39m\u001b[38;5;124mSuccessfully performed a GPU operation with OpenCV.\u001b[39m\u001b[38;5;124m\"\u001b[39m)\n",
      "\u001b[0;31merror\u001b[0m: OpenCV(4.12.0-dev) :-1: error: (-5:Bad argument) in function 'GaussianBlur'\n> Overload resolution failed:\n>  - src is not a numpy array, neither a scalar\n>  - Expected Ptr<cv::UMat> for argument 'src'\n"
     ]
    }
   ],
   "source": [
    "import cv2\n",
    "import numpy as np\n",
    "\n",
    "if cv2.cuda.getCudaEnabledDeviceCount() > 0:\n",
    "    print(\"CUDA is available and enabled in OpenCV.\")\n",
    "    img = np.zeros((512, 512, 3), dtype=np.uint8)\n",
    "    gpu_img = cv2.cuda_GpuMat()\n",
    "    gpu_img.upload(img)\n",
    "    gpu_blurred = cv2.GaussianBlur(gpu_img, (5, 5), 0)\n",
    "    blurred_img = gpu_blurred.download()\n",
    "    print(\"Successfully performed a GPU operation with OpenCV.\")\n",
    "else:\n",
    "    print(\"CUDA is not enabled in OpenCV.\")"
   ]
  },
  {
   "cell_type": "code",
   "execution_count": 17,
   "id": "8a0d5994-b075-4bc8-923e-adb324d7b943",
   "metadata": {},
   "outputs": [
    {
     "name": "stdout",
     "output_type": "stream",
     "text": [
      "OpenCV version: 4.12.0-dev\n",
      "CUDA enabled: True\n"
     ]
    }
   ],
   "source": [
    "import cv2\n",
    "print(f\"OpenCV version: {cv2.__version__}\")\n",
    "print(f\"CUDA enabled: {cv2.cuda.getCudaEnabledDeviceCount() > 0}\")"
   ]
  },
  {
   "cell_type": "code",
   "execution_count": 19,
   "id": "c614d2cd-9c31-45bd-acea-1877bcfb8664",
   "metadata": {},
   "outputs": [
    {
     "name": "stdout",
     "output_type": "stream",
     "text": [
      "CUDA is available and enabled in OpenCV.\n"
     ]
    },
    {
     "ename": "AttributeError",
     "evalue": "'cv2.cuda.GpuMat' object has no attribute 'gaussianBlur'",
     "output_type": "error",
     "traceback": [
      "\u001b[0;31m---------------------------------------------------------------------------\u001b[0m",
      "\u001b[0;31mAttributeError\u001b[0m                            Traceback (most recent call last)",
      "Cell \u001b[0;32mIn[19], line 9\u001b[0m\n\u001b[1;32m      7\u001b[0m gpu_img \u001b[38;5;241m=\u001b[39m cv2\u001b[38;5;241m.\u001b[39mcuda_GpuMat()\n\u001b[1;32m      8\u001b[0m gpu_img\u001b[38;5;241m.\u001b[39mupload(img)\n\u001b[0;32m----> 9\u001b[0m gpu_blurred \u001b[38;5;241m=\u001b[39m \u001b[43mgpu_img\u001b[49m\u001b[38;5;241;43m.\u001b[39;49m\u001b[43mgaussianBlur\u001b[49m((\u001b[38;5;241m5\u001b[39m, \u001b[38;5;241m5\u001b[39m), \u001b[38;5;241m0\u001b[39m) \u001b[38;5;66;03m# Correct method on GpuMat\u001b[39;00m\n\u001b[1;32m     10\u001b[0m blurred_img \u001b[38;5;241m=\u001b[39m gpu_blurred\u001b[38;5;241m.\u001b[39mdownload()\n\u001b[1;32m     11\u001b[0m \u001b[38;5;28mprint\u001b[39m(\u001b[38;5;124m\"\u001b[39m\u001b[38;5;124mSuccessfully performed a GPU operation with OpenCV.\u001b[39m\u001b[38;5;124m\"\u001b[39m)\n",
      "\u001b[0;31mAttributeError\u001b[0m: 'cv2.cuda.GpuMat' object has no attribute 'gaussianBlur'"
     ]
    }
   ],
   "source": [
    "import cv2\n",
    "import numpy as np\n",
    "\n",
    "if cv2.cuda.getCudaEnabledDeviceCount() > 0:\n",
    "    print(\"CUDA is available and enabled in OpenCV.\")\n",
    "    img = np.zeros((512, 512, 3), dtype=np.uint8)\n",
    "    gpu_img = cv2.cuda_GpuMat()\n",
    "    gpu_img.upload(img)\n",
    "    gpu_blurred = gpu_img.gaussianBlur((5, 5), 0) # Correct method on GpuMat\n",
    "    blurred_img = gpu_blurred.download()\n",
    "    print(\"Successfully performed a GPU operation with OpenCV.\")\n",
    "else:\n",
    "    print(\"CUDA is not enabled in OpenCV.\")"
   ]
  },
  {
   "cell_type": "code",
   "execution_count": 20,
   "id": "fe6ab1e1-d074-4cfe-8522-39801e0d0140",
   "metadata": {},
   "outputs": [
    {
     "name": "stdout",
     "output_type": "stream",
     "text": [
      "['ALPHA_ATOP', 'ALPHA_ATOP_PREMUL', 'ALPHA_IN', 'ALPHA_IN_PREMUL', 'ALPHA_OUT', 'ALPHA_OUT_PREMUL', 'ALPHA_OVER', 'ALPHA_OVER_PREMUL', 'ALPHA_PLUS', 'ALPHA_PLUS_PREMUL', 'ALPHA_PREMUL', 'ALPHA_XOR', 'ALPHA_XOR_PREMUL', 'BackgroundSubtractorMOG', 'BackgroundSubtractorMOG2', 'BroxOpticalFlow', 'BroxOpticalFlow_create', 'BufferPool', 'CCL_BKE', 'CCL_DEFAULT', 'CLAHE', 'COLOR_BAYER_BG2BGR_MHT', 'COLOR_BAYER_BG2GRAY_MHT', 'COLOR_BAYER_BG2RGB_MHT', 'COLOR_BAYER_GB2BGR_MHT', 'COLOR_BAYER_GB2GRAY_MHT', 'COLOR_BAYER_GB2RGB_MHT', 'COLOR_BAYER_GR2BGR_MHT', 'COLOR_BAYER_GR2GRAY_MHT', 'COLOR_BAYER_GR2RGB_MHT', 'COLOR_BAYER_RG2BGR_MHT', 'COLOR_BAYER_RG2GRAY_MHT', 'COLOR_BAYER_RG2RGB_MHT', 'COLOR_BayerBG2BGR_MHT', 'COLOR_BayerBG2GRAY_MHT', 'COLOR_BayerBG2RGB_MHT', 'COLOR_BayerGB2BGR_MHT', 'COLOR_BayerGB2GRAY_MHT', 'COLOR_BayerGB2RGB_MHT', 'COLOR_BayerGR2BGR_MHT', 'COLOR_BayerGR2GRAY_MHT', 'COLOR_BayerGR2RGB_MHT', 'COLOR_BayerRG2BGR_MHT', 'COLOR_BayerRG2GRAY_MHT', 'COLOR_BayerRG2RGB_MHT', 'CannyEdgeDetector', 'CascadeClassifier', 'CascadeClassifier_create', 'Convolution', 'CornernessCriteria', 'CornersDetector', 'DEVICE_INFO_COMPUTE_MODE_DEFAULT', 'DEVICE_INFO_COMPUTE_MODE_EXCLUSIVE', 'DEVICE_INFO_COMPUTE_MODE_EXCLUSIVE_PROCESS', 'DEVICE_INFO_COMPUTE_MODE_PROHIBITED', 'DFT', 'DYNAMIC_PARALLELISM', 'DenseOpticalFlow', 'DensePyrLKOpticalFlow', 'DensePyrLKOpticalFlow_create', 'DescriptorMatcher', 'DescriptorMatcher_createBFMatcher', 'DeviceInfo', 'DeviceInfo_ComputeModeDefault', 'DeviceInfo_ComputeModeExclusive', 'DeviceInfo_ComputeModeExclusiveProcess', 'DeviceInfo_ComputeModeProhibited', 'DisparityBilateralFilter', 'EVENT_BLOCKING_SYNC', 'EVENT_DEFAULT', 'EVENT_DISABLE_TIMING', 'EVENT_INTERPROCESS', 'Event', 'Event_BLOCKING_SYNC', 'Event_DEFAULT', 'Event_DISABLE_TIMING', 'Event_INTERPROCESS', 'Event_elapsedTime', 'FEATURE_SET_COMPUTE_10', 'FEATURE_SET_COMPUTE_11', 'FEATURE_SET_COMPUTE_12', 'FEATURE_SET_COMPUTE_13', 'FEATURE_SET_COMPUTE_20', 'FEATURE_SET_COMPUTE_21', 'FEATURE_SET_COMPUTE_30', 'FEATURE_SET_COMPUTE_32', 'FEATURE_SET_COMPUTE_35', 'FEATURE_SET_COMPUTE_50', 'FIRST_ORDER_MOMENTS', 'FarnebackOpticalFlow', 'FarnebackOpticalFlow_create', 'FastFeatureDetector', 'FastFeatureDetector_create', 'Feature2DAsync', 'Filter', 'GLOBAL_ATOMICS', 'GpuData', 'GpuMat', 'GpuMatND', 'GpuMat_defaultAllocator', 'GpuMat_getStdAllocator', 'GpuMat_setDefaultAllocator', 'HOG', 'HOG_create', 'HOST_MEM_PAGE_LOCKED', 'HOST_MEM_SHARED', 'HOST_MEM_WRITE_COMBINED', 'HostMem', 'HostMem_PAGE_LOCKED', 'HostMem_SHARED', 'HostMem_WRITE_COMBINED', 'HoughCirclesDetector', 'HoughLinesDetector', 'HoughSegmentDetector', 'LookUpTable', 'NATIVE_DOUBLE', 'NVIDIA_OPTICAL_FLOW_1_0_NV_OF_PERF_LEVEL_FAST', 'NVIDIA_OPTICAL_FLOW_1_0_NV_OF_PERF_LEVEL_MAX', 'NVIDIA_OPTICAL_FLOW_1_0_NV_OF_PERF_LEVEL_MEDIUM', 'NVIDIA_OPTICAL_FLOW_1_0_NV_OF_PERF_LEVEL_SLOW', 'NVIDIA_OPTICAL_FLOW_1_0_NV_OF_PERF_LEVEL_UNDEFINED', 'NVIDIA_OPTICAL_FLOW_2_0_NV_OF_HINT_VECTOR_GRID_SIZE_1', 'NVIDIA_OPTICAL_FLOW_2_0_NV_OF_HINT_VECTOR_GRID_SIZE_2', 'NVIDIA_OPTICAL_FLOW_2_0_NV_OF_HINT_VECTOR_GRID_SIZE_4', 'NVIDIA_OPTICAL_FLOW_2_0_NV_OF_HINT_VECTOR_GRID_SIZE_8', 'NVIDIA_OPTICAL_FLOW_2_0_NV_OF_HINT_VECTOR_GRID_SIZE_MAX', 'NVIDIA_OPTICAL_FLOW_2_0_NV_OF_HINT_VECTOR_GRID_SIZE_UNDEFINED', 'NVIDIA_OPTICAL_FLOW_2_0_NV_OF_OUTPUT_VECTOR_GRID_SIZE_1', 'NVIDIA_OPTICAL_FLOW_2_0_NV_OF_OUTPUT_VECTOR_GRID_SIZE_2', 'NVIDIA_OPTICAL_FLOW_2_0_NV_OF_OUTPUT_VECTOR_GRID_SIZE_4', 'NVIDIA_OPTICAL_FLOW_2_0_NV_OF_OUTPUT_VECTOR_GRID_SIZE_MAX', 'NVIDIA_OPTICAL_FLOW_2_0_NV_OF_OUTPUT_VECTOR_GRID_SIZE_UNDEFINED', 'NVIDIA_OPTICAL_FLOW_2_0_NV_OF_PERF_LEVEL_FAST', 'NVIDIA_OPTICAL_FLOW_2_0_NV_OF_PERF_LEVEL_MAX', 'NVIDIA_OPTICAL_FLOW_2_0_NV_OF_PERF_LEVEL_MEDIUM', 'NVIDIA_OPTICAL_FLOW_2_0_NV_OF_PERF_LEVEL_SLOW', 'NVIDIA_OPTICAL_FLOW_2_0_NV_OF_PERF_LEVEL_UNDEFINED', 'NvidiaHWOpticalFlow', 'NvidiaOpticalFlow_1_0', 'NvidiaOpticalFlow_1_0_NV_OF_PERF_LEVEL_FAST', 'NvidiaOpticalFlow_1_0_NV_OF_PERF_LEVEL_MAX', 'NvidiaOpticalFlow_1_0_NV_OF_PERF_LEVEL_MEDIUM', 'NvidiaOpticalFlow_1_0_NV_OF_PERF_LEVEL_SLOW', 'NvidiaOpticalFlow_1_0_NV_OF_PERF_LEVEL_UNDEFINED', 'NvidiaOpticalFlow_1_0_create', 'NvidiaOpticalFlow_2_0', 'NvidiaOpticalFlow_2_0_NV_OF_HINT_VECTOR_GRID_SIZE_1', 'NvidiaOpticalFlow_2_0_NV_OF_HINT_VECTOR_GRID_SIZE_2', 'NvidiaOpticalFlow_2_0_NV_OF_HINT_VECTOR_GRID_SIZE_4', 'NvidiaOpticalFlow_2_0_NV_OF_HINT_VECTOR_GRID_SIZE_8', 'NvidiaOpticalFlow_2_0_NV_OF_HINT_VECTOR_GRID_SIZE_MAX', 'NvidiaOpticalFlow_2_0_NV_OF_HINT_VECTOR_GRID_SIZE_UNDEFINED', 'NvidiaOpticalFlow_2_0_NV_OF_OUTPUT_VECTOR_GRID_SIZE_1', 'NvidiaOpticalFlow_2_0_NV_OF_OUTPUT_VECTOR_GRID_SIZE_2', 'NvidiaOpticalFlow_2_0_NV_OF_OUTPUT_VECTOR_GRID_SIZE_4', 'NvidiaOpticalFlow_2_0_NV_OF_OUTPUT_VECTOR_GRID_SIZE_MAX', 'NvidiaOpticalFlow_2_0_NV_OF_OUTPUT_VECTOR_GRID_SIZE_UNDEFINED', 'NvidiaOpticalFlow_2_0_NV_OF_PERF_LEVEL_FAST', 'NvidiaOpticalFlow_2_0_NV_OF_PERF_LEVEL_MAX', 'NvidiaOpticalFlow_2_0_NV_OF_PERF_LEVEL_MEDIUM', 'NvidiaOpticalFlow_2_0_NV_OF_PERF_LEVEL_SLOW', 'NvidiaOpticalFlow_2_0_NV_OF_PERF_LEVEL_UNDEFINED', 'NvidiaOpticalFlow_2_0_create', 'ORB', 'ORB_create', 'OpticalFlowDual_TVL1', 'OpticalFlowDual_TVL1_create', 'SECOND_ORDER_MOMENTS', 'SHARED_ATOMICS', 'SURF_CUDA', 'SURF_CUDA_ANGLE_ROW', 'SURF_CUDA_HESSIAN_ROW', 'SURF_CUDA_LAPLACIAN_ROW', 'SURF_CUDA_OCTAVE_ROW', 'SURF_CUDA_ROWS_COUNT', 'SURF_CUDA_SIZE_ROW', 'SURF_CUDA_X_ROW', 'SURF_CUDA_Y_ROW', 'SURF_CUDA_create', 'SparseOpticalFlow', 'SparsePyrLKOpticalFlow', 'SparsePyrLKOpticalFlow_create', 'StereoBM', 'StereoBeliefPropagation', 'StereoBeliefPropagation_estimateRecommendedParams', 'StereoConstantSpaceBP', 'StereoConstantSpaceBP_estimateRecommendedParams', 'StereoSGM', 'Stream', 'Stream_Null', 'THIRD_ORDER_MOMENTS', 'TargetArchs', 'TargetArchs_has', 'TargetArchs_hasBin', 'TargetArchs_hasEqualOrGreater', 'TargetArchs_hasEqualOrGreaterBin', 'TargetArchs_hasEqualOrGreaterPtx', 'TargetArchs_hasEqualOrLessPtx', 'TargetArchs_hasPtx', 'TemplateMatching', 'WARP_SHUFFLE_FUNCTIONS', '__doc__', '__file__', '__loader__', '__name__', '__package__', '__path__', '__spec__', '_native', 'abs', 'absSum', 'absdiff', 'absdiffWithScalar', 'add', 'addWeighted', 'addWithScalar', 'alphaComp', 'bilateralFilter', 'bitwise_and', 'bitwise_and_with_scalar', 'bitwise_not', 'bitwise_or', 'bitwise_or_with_scalar', 'bitwise_xor', 'bitwise_xor_with_scalar', 'blendLinear', 'buildWarpAffineMaps', 'buildWarpPerspectiveMaps', 'calcAbsSum', 'calcHist', 'calcNorm', 'calcNormDiff', 'calcSqrSum', 'calcSum', 'cartToPolar', 'compare', 'compareWithScalar', 'connectedComponents', 'connectedComponentsWithAlgorithm', 'convertSpatialMoments', 'copyMakeBorder', 'countNonZero', 'createBackgroundSubtractorMOG', 'createBackgroundSubtractorMOG2', 'createBoxFilter', 'createBoxMaxFilter', 'createBoxMinFilter', 'createCLAHE', 'createCannyEdgeDetector', 'createColumnSumFilter', 'createContinuous', 'createConvolution', 'createDFT', 'createDerivFilter', 'createDisparityBilateralFilter', 'createGaussianFilter', 'createGeneralizedHoughBallard', 'createGeneralizedHoughGuil', 'createGoodFeaturesToTrackDetector', 'createGpuMatFromCudaMemory', 'createHarrisCorner', 'createHoughCirclesDetector', 'createHoughLinesDetector', 'createHoughSegmentDetector', 'createLaplacianFilter', 'createLinearFilter', 'createLookUpTable', 'createMedianFilter', 'createMinEigenValCorner', 'createMorphologyFilter', 'createRowSumFilter', 'createScharrFilter', 'createSeparableLinearFilter', 'createSobelFilter', 'createStereoBM', 'createStereoBeliefPropagation', 'createStereoConstantSpaceBP', 'createStereoSGM', 'createTemplateMatching', 'cvtColor', 'demosaicing', 'dft', 'divide', 'divideWithScalar', 'drawColorDisp', 'ensureSizeIsEnough', 'equalizeHist', 'evenLevels', 'exp', 'fastNlMeansDenoising', 'fastNlMeansDenoisingColored', 'findMinMax', 'findMinMaxLoc', 'flip', 'gammaCorrection', 'gemm', 'getCudaEnabledDeviceCount', 'getDevice', 'histEven', 'histRange', 'inRange', 'integral', 'log', 'lshift', 'magnitude', 'magnitudeSqr', 'max', 'maxWithScalar', 'meanShiftFiltering', 'meanShiftProc', 'meanShiftSegmentation', 'meanStdDev', 'merge', 'min', 'minMax', 'minMaxLoc', 'minWithScalar', 'moments', 'mulAndScaleSpectrums', 'mulSpectrums', 'multiply', 'multiplyWithScalar', 'nonLocalMeans', 'norm', 'normalize', 'numMoments', 'phase', 'polarToCart', 'pow', 'printCudaDeviceInfo', 'printShortCudaDeviceInfo', 'pyrDown', 'pyrUp', 'rectStdDev', 'reduce', 'registerPageLocked', 'remap', 'reprojectImageTo3D', 'resetDevice', 'resize', 'rotate', 'rshift', 'setBufferPoolConfig', 'setBufferPoolUsage', 'setDevice', 'spatialMoments', 'split', 'sqr', 'sqrIntegral', 'sqrSum', 'sqrt', 'subtract', 'subtractWithScalar', 'sum', 'threshold', 'transpose', 'unregisterPageLocked', 'warpAffine', 'warpPerspective', 'wrapStream']\n"
     ]
    }
   ],
   "source": [
    "import cv2\n",
    "\n",
    "if cv2.cuda.getCudaEnabledDeviceCount() > 0:\n",
    "    print(dir(cv2.cuda))\n",
    "else:\n",
    "    print(\"CUDA not enabled.\")\n",
    "    "
   ]
  }
 ],
 "metadata": {
  "kernelspec": {
   "display_name": "Python 3 (ipykernel)",
   "language": "python",
   "name": "python3"
  },
  "language_info": {
   "codemirror_mode": {
    "name": "ipython",
    "version": 3
   },
   "file_extension": ".py",
   "mimetype": "text/x-python",
   "name": "python",
   "nbconvert_exporter": "python",
   "pygments_lexer": "ipython3",
   "version": "3.11.2"
  }
 },
 "nbformat": 4,
 "nbformat_minor": 5
}
